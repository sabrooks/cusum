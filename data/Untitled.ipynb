{
 "cells": [
  {
   "cell_type": "code",
   "execution_count": 1,
   "metadata": {
    "collapsed": true
   },
   "outputs": [],
   "source": [
    "import pandas as pd"
   ]
  },
  {
   "cell_type": "code",
   "execution_count": 21,
   "metadata": {
    "collapsed": false
   },
   "outputs": [
    {
     "data": {
      "text/html": [
       "<div>\n",
       "<table border=\"1\" class=\"dataframe\">\n",
       "  <thead>\n",
       "    <tr style=\"text-align: right;\">\n",
       "      <th></th>\n",
       "      <th>date</th>\n",
       "      <th>phase</th>\n",
       "      <th>mgd</th>\n",
       "      <th>influent</th>\n",
       "      <th>valid</th>\n",
       "      <th>actual</th>\n",
       "      <th>predicted</th>\n",
       "      <th>gross</th>\n",
       "      <th>net</th>\n",
       "      <th>gross cusum</th>\n",
       "      <th>net cusum</th>\n",
       "      <th>lighting</th>\n",
       "      <th>biosolids</th>\n",
       "      <th>deleted utility meters</th>\n",
       "    </tr>\n",
       "  </thead>\n",
       "  <tbody>\n",
       "    <tr>\n",
       "      <th>0</th>\n",
       "      <td>11/1/2010</td>\n",
       "      <td>0.0</td>\n",
       "      <td>39.49</td>\n",
       "      <td>1.0</td>\n",
       "      <td>1.0</td>\n",
       "      <td>60,641</td>\n",
       "      <td>64,583</td>\n",
       "      <td>-3,942</td>\n",
       "      <td>-3,942</td>\n",
       "      <td>-3,942</td>\n",
       "      <td>-3,942</td>\n",
       "      <td>0.0</td>\n",
       "      <td>0.0</td>\n",
       "      <td>0.0</td>\n",
       "    </tr>\n",
       "    <tr>\n",
       "      <th>1</th>\n",
       "      <td>11/2/2010</td>\n",
       "      <td>0.0</td>\n",
       "      <td>32.62</td>\n",
       "      <td>1.0</td>\n",
       "      <td>1.0</td>\n",
       "      <td>63,153</td>\n",
       "      <td>60,700</td>\n",
       "      <td>2,452</td>\n",
       "      <td>2,452</td>\n",
       "      <td>-1,490</td>\n",
       "      <td>-1,490</td>\n",
       "      <td>0.0</td>\n",
       "      <td>0.0</td>\n",
       "      <td>0.0</td>\n",
       "    </tr>\n",
       "    <tr>\n",
       "      <th>2</th>\n",
       "      <td>11/3/2010</td>\n",
       "      <td>0.0</td>\n",
       "      <td>25.26</td>\n",
       "      <td>1.0</td>\n",
       "      <td>1.0</td>\n",
       "      <td>54,570</td>\n",
       "      <td>56,536</td>\n",
       "      <td>-1,966</td>\n",
       "      <td>-1,966</td>\n",
       "      <td>-3,456</td>\n",
       "      <td>-3,456</td>\n",
       "      <td>0.0</td>\n",
       "      <td>0.0</td>\n",
       "      <td>0.0</td>\n",
       "    </tr>\n",
       "    <tr>\n",
       "      <th>3</th>\n",
       "      <td>11/4/2010</td>\n",
       "      <td>0.0</td>\n",
       "      <td>22.54</td>\n",
       "      <td>1.0</td>\n",
       "      <td>1.0</td>\n",
       "      <td>53,747</td>\n",
       "      <td>54,998</td>\n",
       "      <td>-1,252</td>\n",
       "      <td>-1,252</td>\n",
       "      <td>-4,707</td>\n",
       "      <td>-4,707</td>\n",
       "      <td>0.0</td>\n",
       "      <td>0.0</td>\n",
       "      <td>0.0</td>\n",
       "    </tr>\n",
       "    <tr>\n",
       "      <th>4</th>\n",
       "      <td>11/5/2010</td>\n",
       "      <td>0.0</td>\n",
       "      <td>21.66</td>\n",
       "      <td>1.0</td>\n",
       "      <td>1.0</td>\n",
       "      <td>52,860</td>\n",
       "      <td>54,505</td>\n",
       "      <td>-1,646</td>\n",
       "      <td>-1,646</td>\n",
       "      <td>-6,353</td>\n",
       "      <td>-6,353</td>\n",
       "      <td>0.0</td>\n",
       "      <td>0.0</td>\n",
       "      <td>0.0</td>\n",
       "    </tr>\n",
       "  </tbody>\n",
       "</table>\n",
       "</div>"
      ],
      "text/plain": [
       "        date  phase    mgd  influent  valid  actual predicted   gross     net  \\\n",
       "0  11/1/2010    0.0  39.49       1.0    1.0  60,641    64,583  -3,942  -3,942   \n",
       "1  11/2/2010    0.0  32.62       1.0    1.0  63,153    60,700   2,452   2,452   \n",
       "2  11/3/2010    0.0  25.26       1.0    1.0  54,570    56,536  -1,966  -1,966   \n",
       "3  11/4/2010    0.0  22.54       1.0    1.0  53,747    54,998  -1,252  -1,252   \n",
       "4  11/5/2010    0.0  21.66       1.0    1.0  52,860    54,505  -1,646  -1,646   \n",
       "\n",
       "  gross cusum net cusum  lighting  biosolids  deleted utility meters  \n",
       "0      -3,942    -3,942       0.0        0.0                     0.0  \n",
       "1      -1,490    -1,490       0.0        0.0                     0.0  \n",
       "2      -3,456    -3,456       0.0        0.0                     0.0  \n",
       "3      -4,707    -4,707       0.0        0.0                     0.0  \n",
       "4      -6,353    -6,353       0.0        0.0                     0.0  "
      ]
     },
     "execution_count": 21,
     "metadata": {},
     "output_type": "execute_result"
    }
   ],
   "source": [
    "cols = ['date', 'phase', 'mgd', 'influent', 'valid', 'actual', 'predicted', 'gross', 'net', 'gross cusum', \n",
    "        'net cusum', 'lighting','biosolids', 'deleted utility meters' ]\n",
    "mtr = pd.read_csv('tww_mtr.csv', parse_dates=True)\n",
    "mtr.drop(['Notes'], axis=1, inplace=True)\n",
    "mtr.fillna(0, inplace=True)\n",
    "mtr.columns =cols\n",
    "mtr.head()"
   ]
  },
  {
   "cell_type": "code",
   "execution_count": 24,
   "metadata": {
    "collapsed": false
   },
   "outputs": [],
   "source": [
    "#Ignores the model parameters\n",
    "params = ['date', 'predicted', 'gross', 'net', 'gross cusum', 'net cusum', 'lighting', 'biosolids']\n",
    "results = mtr[params]\n",
    "results.to_json(path_or_buf = '../results.json', orient = 'records')"
   ]
  },
  {
   "cell_type": "code",
   "execution_count": null,
   "metadata": {
    "collapsed": true
   },
   "outputs": [],
   "source": []
  }
 ],
 "metadata": {
  "kernelspec": {
   "display_name": "Python 3",
   "language": "python",
   "name": "python3"
  },
  "language_info": {
   "codemirror_mode": {
    "name": "ipython",
    "version": 3
   },
   "file_extension": ".py",
   "mimetype": "text/x-python",
   "name": "python",
   "nbconvert_exporter": "python",
   "pygments_lexer": "ipython3",
   "version": "3.5.1"
  }
 },
 "nbformat": 4,
 "nbformat_minor": 0
}
